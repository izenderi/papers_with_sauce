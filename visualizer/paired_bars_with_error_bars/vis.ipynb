{
 "cells": [
  {
   "cell_type": "code",
   "execution_count": 16,
   "metadata": {},
   "outputs": [
    {
     "data": {
      "image/png": "[encoded data removed]",
      "text/plain": [
       "<Figure size 1200x200 with 2 Axes>"
      ]
     },
     "metadata": {},
     "output_type": "display_data"
    }
   ],
   "source": [
    "import numpy as np\n",
    "import pandas as pd\n",
    "import matplotlib.pyplot as plt\n",
    "\n",
    "# Convert to DataFrames\n",
    "df_completion_time = pd.read_csv(\"stationary_time.csv\")\n",
    "df_std_dev = pd.read_csv(\"stationary_stdev.csv\")\n",
    "\n",
    "# Define X locations and bar width\n",
    "# x_labels = df_completion_time[\"Task\"]\n",
    "x = np.arange(5)  # X positions for bars\n",
    "bar_width = 0.2\n",
    "\n",
    "# Colors for bars\n",
    "colors = [(0, 0, 0, 0.6), \"#1F77B4\"]\n",
    "err_bar_settings = {'capsize': 4, 'capthick': 1.5, 'elinewidth': 1.5, 'ecolor': 'black'}\n",
    "\n",
    "# Create a 1x2 subplot with figsize (10, 4)\n",
    "fig, axs = plt.subplots(1, 2, figsize=(12, 2), sharey=True)\n",
    "\n",
    "# Plot Completion Time with Std Dev as error bars\n",
    "axs[0].bar(x - bar_width/2, df_completion_time[\"ROS Reality\"], yerr=df_std_dev[\"ROS Reality\"], \n",
    "           width=bar_width, color=colors[0], label=\"ROS Reality\", error_kw=err_bar_settings)\n",
    "axs[0].bar(x + bar_width/2, df_completion_time[\"TeleXR-OP\"], yerr=df_std_dev[\"TeleXR-OP\"], \n",
    "           width=bar_width, color=colors[1], label=\"TeleXR-OP\", error_kw=err_bar_settings)\n",
    "axs[0].set_ylabel(\"Completion Time (s)\")\n",
    "axs[0].grid(axis='y', linestyle=\"--\", linewidth=0.5)\n",
    "\n",
    "df_completion_time = pd.read_csv(\"mobile_time.csv\")\n",
    "df_std_dev = pd.read_csv(\"mobile_stdev.csv\")\n",
    "\n",
    "axs[1].bar(x - bar_width/2, df_completion_time[\"ROS Reality\"], yerr=df_std_dev[\"ROS Reality\"], \n",
    "           width=bar_width, color=colors[0], label=\"ROS Reality\", error_kw=err_bar_settings)\n",
    "axs[1].bar(x + bar_width/2, df_completion_time[\"TeleXR-OP\"], yerr=df_std_dev[\"TeleXR-OP\"], \n",
    "           width=bar_width, color=colors[1], label=\"TeleXR-OP\", error_kw=err_bar_settings)\n",
    "axs[1].grid(axis='y', linestyle=\"--\", linewidth=0.5)\n",
    "\n",
    "# Formatting\n",
    "axs[0].set_xticks([])\n",
    "# axs[0].set_xticklabels(x_labels, rotation=45)\n",
    "\n",
    "axs[1].set_xticks([])\n",
    "axs[1].tick_params(axis='y', which='both', left=False, right=False, labelleft=False)\n",
    "# axs[1].set_xticklabels(x_labels, rotation=45)\n",
    "\n",
    "plt.subplots_adjust(wspace=0)\n",
    "# plt.tight_layout()\n",
    "plt.savefig(\"completion_time.png\", dpi=300)\n",
    "plt.show()\n"
   ]
  }
 ],
 "metadata": {
  "kernelspec": {
   "display_name": "py39",
   "language": "python",
   "name": "python3"
  },
  "language_info": {
   "codemirror_mode": {
    "name": "ipython",
    "version": 3
   },
   "file_extension": ".py",
   "mimetype": "text/x-python",
   "name": "python",
   "nbconvert_exporter": "python",
   "pygments_lexer": "ipython3",
   "version": "3.9.16"
  }
 },
 "nbformat": 4,
 "nbformat_minor": 2
}
